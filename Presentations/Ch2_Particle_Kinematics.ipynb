{
 "cells": [
  {
   "cell_type": "markdown",
   "metadata": {
    "slideshow": {
     "slide_type": "slide"
    }
   },
   "source": [
    "## Chapter 2: Particle Kinematics\n",
    "\n",
    "### MEC262: Engineering Dynamics\n",
    "\n",
    "### Vivek Yadav, PhD\n",
    "\n",
    "#### Sections (2.1 to 2.8)\n",
    "#### Position, Velocity and acceleration representations in various coordinate frames"
   ]
  },
  {
   "cell_type": "markdown",
   "metadata": {
    "slideshow": {
     "slide_type": "slide"
    }
   },
   "source": [
    "### 2.1 Kinematics \n",
    "\n",
    "- Kinematics describe the motion of a particle or a body without accounting for the forces that may cause the motion.\n",
    "\n",
    "- Kinematics: Position, velocity and acceleration. \n",
    "\n"
   ]
  },
  {
   "cell_type": "markdown",
   "metadata": {
    "slideshow": {
     "slide_type": "slide"
    }
   },
   "source": [
    "### Relation between position, velocity and derivative\n",
    "\n",
    "- Velocity is derivative of position, and acceleration is derivative of velocity. \n",
    "\n",
    "- Given position vector \\\\( \\vec{R} \\\\), \n",
    "\n",
    "$$Velocity: ~ \\vec{V}  = \\frac{d \\vec{R}}{ dt}$$\n",
    "\n",
    "$$Acceleration: ~\\vec{A}  = \\frac{d \\vec{V}}{ dt} = \\frac{d^2 \\vec{R}}{ dt^2}$$"
   ]
  },
  {
   "cell_type": "markdown",
   "metadata": {
    "slideshow": {
     "slide_type": "slide"
    }
   },
   "source": [
    "### Position vector in cartesian coordinates (x-y).\n",
    "\n",
    "Given a point \\\\( (x_P, y_P) \\\\) the position vector is given by,\n",
    "\n",
    "$$ \\vec{R}_P = x_P \\hat{j} +  y_P \\hat{j} $$ \n",
    "\n",
    "<img src='images/position_vec.jpg'>\n"
   ]
  },
  {
   "cell_type": "markdown",
   "metadata": {
    "slideshow": {
     "slide_type": "slide"
    }
   },
   "source": [
    "### Trajectory and displacement\n",
    "\n",
    "- Trajectory is time-history (position vs time) or \\\\( (\\vec{r}(t) ) \\\\)\n",
    "\n",
    "- Displacement is difference in position vector between two given time instants. In the figure below, \\\\( \\Delta \\vec{r} \\\\) is the displacement between times \\\\( t \\\\) and \\\\( t + \\Delta t \\\\). \n",
    "    $$ \\Delta \\vec{r} = \\vec{r} (t + \\Delta t) - \\vec{r} (t) $$\n",
    "\n",
    "- Note, displacement of a particle can be zero even if the net distance traveled by the particle is non-zero. For example, a full rotation about a circle brings the particle back to the same position. \n",
    "\n",
    "- Trajectory plotted in the cartesian space is called path (x vs y).\n",
    "\n",
    "\n",
    "\n",
    "<img src='images/traj.jpg'>\n"
   ]
  },
  {
   "cell_type": "markdown",
   "metadata": {
    "slideshow": {
     "slide_type": "slide"
    }
   },
   "source": [
    "## Velocity and speed\n",
    "\n",
    "- Velocity is the rate of change of position. \n",
    "- Speed is the magnitude of velocity. \n",
    "- Average velocity is displacement over time. Note, average velocity can be zero, even if the velocity at the intermediate points is not zero.\n",
    "\n",
    "\n"
   ]
  },
  {
   "cell_type": "markdown",
   "metadata": {
    "slideshow": {
     "slide_type": "slide"
    }
   },
   "source": [
    "### Average velocity \n",
    "\n",
    "$$ Average ~ Velocity = \\frac{Displacement}{time} $$\n",
    "\n",
    "$$Displacement =  \\Delta \\vec{r} = \\vec{r} (t + \\Delta t) - \\vec{r} (t) $$\n",
    "\n",
    "\n",
    "$$ Average ~ Velocity = \\frac{ \\Delta \\vec{r}}{\\Delta t} = \\frac{\\vec{r} (t + \\Delta t) - \\vec{r} (t) }{\\Delta t} $$\n"
   ]
  },
  {
   "cell_type": "markdown",
   "metadata": {
    "slideshow": {
     "slide_type": "slide"
    }
   },
   "source": [
    "### Velocity vector\n",
    "\n",
    "As \\\\( \\Delta t \\rightarrow 0 \\\\), the average velocity approaches the true velocity of the particle at a given instant. Therefore, velocity can be computed as, \n",
    "\n",
    "$$ \\vec{v}(t) = \\underbrace{Lim}_{\\Delta t \\rightarrow 0}  \\frac{ \\Delta \\vec{r}}{\\Delta t} = \\frac{ d \\vec{r}}{dt} = \\dot{\\vec{r} } $$ \n",
    "\n",
    "<img src='images/vel_vec.jpg'>\n",
    "\n",
    "\n",
    "- Velocity vector is always tangent to the path. "
   ]
  },
  {
   "cell_type": "markdown",
   "metadata": {
    "slideshow": {
     "slide_type": "slide"
    }
   },
   "source": [
    "### Speed along a path\n",
    "\n",
    "Given \\\\( s \\\\) path length along a path, the speed along the path is given by, \n",
    "\n",
    "$$ v = \\frac{ds}{dt} $$\n",
    "\n",
    "Average speed along the track, \n",
    "\n",
    "$$ v_{avg} = \\frac{s_2 - s_1}{t_2 - t_1} $$"
   ]
  },
  {
   "cell_type": "markdown",
   "metadata": {
    "collapsed": true,
    "slideshow": {
     "slide_type": "slide"
    }
   },
   "source": [
    "### Acceleration\n",
    "\n",
    "Acceleration is the rate of change of velocity. \n",
    "\n",
    "$$ \\vec{a}(t) = \\dot{\\vec{v}} = \\underbrace{Lim}_{\\Delta t \\rightarrow 0} \\frac{ \\vec{v}(t+\\Delta t) - \\vec{v}(t) }{\\Delta t} $$\n",
    "\n",
    "<img src=\"images/accel.png\">"
   ]
  },
  {
   "cell_type": "markdown",
   "metadata": {
    "slideshow": {
     "slide_type": "slide"
    }
   },
   "source": [
    "## Average and instantaneous acceleration\n",
    "\n",
    "Given the velocity vector \\\\( \\vec{v} \\\\), the  instantaneous acceleration is given by, \n",
    "\n",
    "$$ \\vec{a} = \\frac{d \\vec{v}}{dt} $$\n",
    "\n",
    "Average acceleration along the track, \n",
    "\n",
    "$$  \\vec{a}_{avg} = \\frac{ \\vec{v}_2 - \\vec{v}_1}{t_2 - t_1} $$"
   ]
  },
  {
   "cell_type": "markdown",
   "metadata": {
    "slideshow": {
     "slide_type": "slide"
    }
   },
   "source": [
    "## Elementary motions \n",
    "\n",
    "1. Linear or rectilinear motion, motion along a straight line\n",
    "2. Rotational motion, rotation of a point around a circle. "
   ]
  },
  {
   "cell_type": "markdown",
   "metadata": {
    "slideshow": {
     "slide_type": "slide"
    }
   },
   "source": [
    "### Linear or Rectilinear motion \n",
    "\n",
    "For motion in a straight line, we can drop the direction vector and replace it with distance \\\\(s \\\\) from start. \n",
    "\n",
    "$$ v = \\frac{ds}{dt} $$ \n",
    "\n",
    "$$ a = \\frac{dv}{dt} = \\frac{d^2s}{dt^2} = v \\frac{dv}{ds} $$\n",
    "\n",
    "\n",
    "The form of equation to choose depends on the quantify we are interested in and the given expression. \n",
    "\n",
    "<img src=\"images/rectlinear.png\">"
   ]
  },
  {
   "cell_type": "markdown",
   "metadata": {
    "slideshow": {
     "slide_type": "slide"
    }
   },
   "source": [
    "For constant acceleration, \n",
    "\n",
    "$$v(t) = v(t_0) + a_c (t-t_0) $$ \n",
    "\n",
    "$$s(t) = s(t_0) + v(t_0) (t-t_0) +  \\frac{1}{2}a_c (t-t_0)^2 $$ \n",
    "\n",
    "$$v(t)^2 = v(t_0)^2 + 2 a_c (s(t)-s(t_0)) $$ "
   ]
  },
  {
   "cell_type": "markdown",
   "metadata": {
    "slideshow": {
     "slide_type": "slide"
    }
   },
   "source": [
    "### Circular motion. \n",
    "\n",
    "All relations for rectilinear motion apply directly to the ANGULAR QUANTITIES (angle, angular velocity and angular acceleration). \n",
    "\n",
    "NOTE: THE RECTILINEAR EQUATIONS DO NOT APPLY TO THE LINEAR KINEMATICS OF A PARTICLE MOVING IN A CIRCLE. \n",
    "\n",
    "<img src=\"images/circular.png\">"
   ]
  },
  {
   "cell_type": "markdown",
   "metadata": {
    "slideshow": {
     "slide_type": "slide"
    }
   },
   "source": [
    "Given angle \\\\( \\Theta \\\\), angular velocity is given by, \n",
    "\n",
    "$$ \\omega = \\frac{d \\Theta}{dt} = \\dot{ \\Theta} $$ \n",
    "\n",
    "$$ \\alpha = \\frac{d \\omega}{dt} =  \\frac{d^2 \\Theta}{dt^2} = \\omega \\frac{\\omega}{d \\Theta} = \\ddot{ \\Theta}$$ "
   ]
  },
  {
   "cell_type": "markdown",
   "metadata": {
    "slideshow": {
     "slide_type": "slide"
    }
   },
   "source": [
    "### Projectile motion \n",
    "\n",
    "Projectile motion is motion where a particle moves solely under the action of gravity (and sometimes drag). The accelerations, assuming no drag are given by \n",
    "\n",
    "$$ a_x = 0, ~ a_y   = -g = -9.8 ~ m/s^2 $$ \n",
    "\n",
    "Given a projectile thrown with a velocity \\\\( v_x(0) \\\\) and \\\\( v_y(0) \\\\), the velocity is given by,\n",
    "\n",
    "$$ v_x(t) = v_x(0) $$\n",
    "\n",
    "$$ v_y(t) = v_y(0) - g t $$"
   ]
  },
  {
   "cell_type": "markdown",
   "metadata": {
    "slideshow": {
     "slide_type": "slide"
    }
   },
   "source": [
    "Given a projectile thrown with a velocity \\\\( v_x(0) \\\\) and \\\\( v_y(0) \\\\) from positon \\\\( s_x(0) \\\\) and \\\\( s_y(0) \\\\), distance traveled by the projectile is given by,\n",
    "\n",
    "$$ s_x(t) = s_x(0) + v_x(0) t $$\n",
    "\n",
    "$$ s_y(t) = s_y(0) + v_y(0) t - \\frac{1}{2}g t^2 $$"
   ]
  },
  {
   "cell_type": "markdown",
   "metadata": {
    "slideshow": {
     "slide_type": "slide"
    }
   },
   "source": [
    "## EXAMPLES"
   ]
  }
 ],
 "metadata": {
  "anaconda-cloud": {},
  "celltoolbar": "Slideshow",
  "kernelspec": {
   "display_name": "Python [conda env:SCND_venv]",
   "language": "python",
   "name": "conda-env-SCND_venv-py"
  },
  "language_info": {
   "codemirror_mode": {
    "name": "ipython",
    "version": 3
   },
   "file_extension": ".py",
   "mimetype": "text/x-python",
   "name": "python",
   "nbconvert_exporter": "python",
   "pygments_lexer": "ipython3",
   "version": "3.5.2"
  }
 },
 "nbformat": 4,
 "nbformat_minor": 1
}
