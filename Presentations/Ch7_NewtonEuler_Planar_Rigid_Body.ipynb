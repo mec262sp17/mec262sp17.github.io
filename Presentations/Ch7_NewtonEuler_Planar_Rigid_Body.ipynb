{
 "cells": [
  {
   "cell_type": "markdown",
   "metadata": {
    "slideshow": {
     "slide_type": "slide"
    }
   },
   "source": [
    "## Newton-Euler Equations for Planar Rigid Body Motion\n",
    "\n",
    "### MEC 262\n",
    "\n",
    "#### Vivek Yadav, PhD"
   ]
  },
  {
   "cell_type": "markdown",
   "metadata": {
    "slideshow": {
     "slide_type": "slide"
    }
   },
   "source": [
    "### Overview\n",
    "\n",
    "- Extending system of particles approach to rigid body\n",
    "- Derive equations for 3D rigid body\n",
    "- Planar rigid body\n",
    "- Parallel axis theorm"
   ]
  },
  {
   "cell_type": "markdown",
   "metadata": {
    "slideshow": {
     "slide_type": "slide"
    }
   },
   "source": [
    "### Newton-Euler equation derivation for general rigid bodies\n",
    "\n",
    "A rigid body can be considered as collection of infinite system of particles. For system of particles, \n",
    "\n",
    "$$ \\vec{F} = \\left( \\sum_{i=1}^N m_i \\right) \\vec{a}_G $$ \n",
    "\n",
    "Applying equation above for infinite differential elements gives, \n",
    "\n",
    "$$ \\vec{F} = \\left( \\int_{body} d m \\right) \\vec{a}_G = M \\vec{a}_G $$ \n",
    "\n",
    "<img src = 'images/dm_body.jpg'>"
   ]
  },
  {
   "cell_type": "markdown",
   "metadata": {
    "slideshow": {
     "slide_type": "slide"
    }
   },
   "source": [
    "## Angular momentum\n",
    "\n",
    "Angular momentum of a rigid body about a point P can be written as, \n",
    "\n",
    "$$ \\vec{h}_p =  \\sum_{i=1}^N \\vec{r}_{i/P} \\times m_i  \\vec{v}_i $$ \n",
    "\n",
    "For a rigid body, \n",
    "\n",
    "$$ \\vec{h}_p =  \\int_{body} \\vec{r}_{dm/P} \\times (dm)  \\vec{v}_{dm} = \\int_{body} \\vec{r}_{dm/P} \\times   \\vec{v}_{dm} dm$$ \n",
    "\n",
    "Taking derivative gives, \n",
    "\n",
    "\n",
    "$$ \\dot{\\vec{h}}_p = \\underbrace{ \\int_{body} \\vec{v}_{dm/P} \\times  \\vec{v}_{dm} dm}_{I_1} + \\underbrace{ \\int_{body} \\vec{r}_{dm/P} \\times  \\vec{a}_{dm} dm}_{I_2}  $$ \n",
    "\n",
    "\n"
   ]
  },
  {
   "cell_type": "markdown",
   "metadata": {
    "slideshow": {
     "slide_type": "slide"
    }
   },
   "source": [
    "First integral\n",
    "\n",
    "$$ I_1 =  \\int_{body} (\\vec{v}_{dm} - \\vec{v}_P) \\times  \\vec{v}_{dm} dm =  - \\int_{body} \\vec{v}_P \\times  \\vec{v}_{dm} dm =  - \\vec{v}_P \\times  \\int_{body} \\vec{v}_{dm} dm  $$\n",
    "\n",
    "\n",
    "$$ I_1 =   - \\vec{v}_P \\times  m \\vec{v}_G  $$\n",
    "\n",
    "Second integral\n",
    "\n",
    "$$ I_2 =  \\int_{body} (\\vec{r}_{dm/G} - \\vec{r}_{P/G}) \\times  \\vec{a}_{dm} dm =  \\int_{body} \\vec{r}_{dm/G} \\times  \\vec{a}_{dm} dm  - \\int_{body} \\vec{r}_{P/G} \\times  \\vec{a}_{dm} dm $$ \n",
    "\n",
    "$$ I_2 =   \\int_{body} \\vec{r}_{dm/G} \\times  \\vec{a}_{dm} dm  -  \\vec{r}_{P/G} \\times  \\int_{body} \\vec{a}_{dm} dm = \\int_{body} \\vec{r}_{dm/G} \\times  \\vec{a}_{dm} dm  -  \\vec{r}_{P/G} \\times  m \\vec{a}_G $$ \n",
    "\n",
    "\n",
    "\n"
   ]
  },
  {
   "cell_type": "markdown",
   "metadata": {
    "slideshow": {
     "slide_type": "slide"
    }
   },
   "source": [
    "$$ I_2 =    \\int_{body} \\vec{r}_{dm/G} \\times  \\vec{a}_{dm} dm  -  \\vec{r}_{P/G} \\times  m \\vec{a}_G =  \\int_{body} \\vec{r}_{dm/G} \\times  \\vec{a}_{dm} dm  +  \\vec{r}_{G/P} \\times  m \\vec{a}_G  $$ \n",
    "\n",
    "$$ I_2 =    \\int_{body} \\vec{r}_{dm/G} \\times  [\\vec{a}_{G} + \\vec{\\alpha}_B \\times \\vec{r}_{dm/G} + \\vec{\\omega}_B \\times ( \\vec{\\omega}_B \\times\\vec{r}_{dm/G}) ] dm  +  \\vec{r}_{G/P} \\times  m \\vec{a}_G $$ \n",
    "\n",
    "\n",
    "$$ I_2 =  \\underbrace{  \\int_{body} \\vec{r}_{dm/G} \\times  \\vec{a}_{G} dm }_{=0} +  \\int_{body} \\vec{r}_{dm/G} \\times ( \\vec{\\alpha}_B \\times \\vec{r}_{dm/G} ) dm +  \\int_{body} \\vec{r}_{dm/G} \\times  (\\vec{\\omega}_B \\times ( \\vec{\\omega}_B \\times\\vec{r}_{dm/G}))  dm  +  \\vec{r}_{G/P} \\times  m \\vec{a}_G $$ \n",
    "\n",
    "$$ I_2 =  \\int_{body} \\vec{r}_{dm/G} \\times  ( \\vec{\\alpha}_B \\times \\vec{r}_{dm/G} ) dm +  \\int_{body} \\vec{r}_{dm/G} \\times ( \\vec{\\omega}_B \\times ( \\vec{\\omega}_B \\times\\vec{r}_{dm/G}) ) dm  +  \\vec{r}_{G/P} \\times  m \\vec{a}_G $$ \n",
    "\n"
   ]
  },
  {
   "cell_type": "markdown",
   "metadata": {
    "slideshow": {
     "slide_type": "slide"
    }
   },
   "source": [
    "#### Using vector triple product, \\\\( \\vec{a} \\times ( \\vec{b} \\times \\vec{c} ) =\\vec{b}  ( \\vec{a} \\circ \\vec{c} ) - \\vec{c} ( \\vec{a} \\circ \\vec{b} ) \\\\)\n",
    "\n",
    "$$ I_2 =  \\int_{body} \\vec{r}_{dm/G} \\times  ( \\vec{\\alpha}_B \\times \\vec{r}_{dm/G} ) dm +  \\int_{body} \\vec{r}_{dm/G} \\times ( \\vec{\\omega}_B \\times ( \\vec{\\omega}_B \\times \\vec{r}_{dm/G}) ) dm  +  \\vec{r}_{G/P} \\times  m \\vec{a}_G $$ \n",
    "\n",
    "\n",
    "$$ I_2 =  \\int_{body} [\\vec{\\alpha}_B  ( \\vec{r}_{dm/G} \\circ \\vec{r}_{dm/G}) - \\vec{r}_{dm/G} ( \\vec{r}_{dm/G} \\circ \\vec{\\alpha}_B )] dm  $$\n",
    "$$ + \\int_{body} \\vec{r}_{dm/G} \\times ([ \\vec{\\omega}_B ( \\vec{r}_{dm/G} \\circ \\vec{\\omega}_B ) - \\vec{r}_{dm/G} ( \\vec{\\omega}_B  \\circ \\vec{\\omega}_B )] ) dm $$ \n",
    "$$  +  \\vec{r}_{G/P} \\times  m \\vec{a}_G $$ \n",
    "\n",
    "\n",
    "$$ I_2 =  \\int_{body} [\\vec{\\alpha}_B  ( \\vec{r}_{dm/G} \\circ \\vec{r}_{dm/G}) - \\vec{r}_{dm/G} ( \\vec{r}_{dm/G} \\circ \\vec{\\alpha}_B )] dm  $$\n",
    "$$ + \\int_{body} \\vec{r}_{dm/G} \\times  \\vec{\\omega}_B ( \\vec{r}_{dm/G} \\circ \\vec{\\omega}_B )  dm $$ \n",
    "$$  +  \\vec{r}_{G/P} \\times  m \\vec{a}_G $$ \n"
   ]
  },
  {
   "cell_type": "markdown",
   "metadata": {
    "slideshow": {
     "slide_type": "slide"
    }
   },
   "source": [
    "## Planar rigid body\n",
    "\n",
    "For planar case, all motion is along the axis perpendicular to body, therefore, \\\\( \\vec{r} \\times \\vec{\\alpha} = 0 \\\\) and  \\\\( \\vec{r} \\times \\vec{\\omega} = 0 \\\\)  \n",
    "\n",
    "\n",
    "\n",
    "$$ I_2 =  \\int_{body} [\\vec{\\alpha}_B  ( \\vec{r}_{dm/G} \\circ \\vec{r}_{dm/G}) - \\vec{r}_{dm/G} ( \\vec{r}_{dm/G} \\circ \\vec{\\alpha}_B )] dm  $$\n",
    "$$ + \\int_{body} \\vec{r}_{dm/G} \\times  \\vec{\\omega}_B ( \\vec{r}_{dm/G} \\circ \\vec{\\omega}_B )  dm $$ \n",
    "$$  +  \\vec{r}_{G/P} \\times  m \\vec{a}_G $$ \n",
    "\n",
    "\n",
    "$$ I_2 =  \\int_{body} \\vec{\\alpha}_B  ( \\vec{r}_{dm/G} \\circ \\vec{r}_{dm/G})  dm   +   \\vec{r}_{G/P} \\times  m \\vec{a}_G $$ \n",
    "\n",
    "\n",
    "$$ I_2 =  \\int_{body} |\\vec{r}_{dm/G}|^2  dm \\vec{\\alpha}_B  +   \\vec{r}_{G/P} \\times  m \\vec{a}_G $$ \n"
   ]
  },
  {
   "cell_type": "markdown",
   "metadata": {
    "slideshow": {
     "slide_type": "slide"
    }
   },
   "source": [
    "#### Substituting gives \n",
    "\n",
    "$$ \\dot{\\vec{h}}_p = \\underbrace{ \\int_{body} \\vec{v}_{dm/P} \\times  \\vec{v}_{dm} dm}_{I_1} + \\underbrace{ \\int_{body} \\vec{r}_{dm/P} \\times  \\vec{a}_{dm} dm}_{I_2}  $$ \n",
    "\n",
    "\n",
    "$$ \\dot{\\vec{h}}_p = - \\vec{v}_P \\times  m \\vec{v}_G  +  \\int_{body} |\\vec{r}_{dm/G}|^2  dm \\vec{\\alpha}_B  +   \\vec{r}_{G/P} \\times  m \\vec{a}_G  $$ \n",
    "\n",
    "\n",
    "$$ \\dot{\\vec{h}}_p + \\vec{v}_P \\times  m \\vec{v}_G  =  \\int_{body} |\\vec{r}_{dm/G}|^2  dm \\vec{\\alpha}_B  +   \\vec{r}_{G/P} \\times  m \\vec{a}_G  $$\n",
    "\n",
    "Recall, \n",
    "\n",
    "$$ \\vec{M}_P = \\dot{\\vec{h}}_p + \\vec{v}_P \\times  m \\vec{v}_G   $$ "
   ]
  },
  {
   "cell_type": "markdown",
   "metadata": {
    "slideshow": {
     "slide_type": "slide"
    }
   },
   "source": [
    "### Final equation\n",
    "\n",
    "Force equation, \n",
    "\n",
    "$$ \\vec{F} = m \\vec{a}_G $$ \n",
    "\n",
    "Torque equation, \n",
    "\n",
    "$$ \\vec{M}_P = \\dot{\\vec{h}}_p + \\vec{v}_P \\times  m \\vec{v}_G  =  \\int_{body} |\\vec{r}_{dm/G}|^2  dm \\vec{\\alpha}_B  +   \\vec{r}_{G/P} \\times  m \\vec{a}_G $$ \n",
    "\n",
    "$$ \\vec{M}_P = I_G \\vec{\\alpha}_B  +   \\vec{r}_{G/P} \\times  m \\vec{a}_G $$ "
   ]
  },
  {
   "cell_type": "markdown",
   "metadata": {
    "slideshow": {
     "slide_type": "slide"
    }
   },
   "source": [
    "<img src = 'images/moment_of_inertia.png'>"
   ]
  },
  {
   "cell_type": "markdown",
   "metadata": {
    "slideshow": {
     "slide_type": "slide"
    }
   },
   "source": [
    "### Parallel axis theorem\n",
    "\n",
    "<img src = 'images/prl_axis.png'>"
   ]
  },
  {
   "cell_type": "markdown",
   "metadata": {
    "slideshow": {
     "slide_type": "slide"
    }
   },
   "source": [
    "### EXAMPLE"
   ]
  },
  {
   "cell_type": "code",
   "execution_count": null,
   "metadata": {
    "collapsed": true
   },
   "outputs": [],
   "source": []
  }
 ],
 "metadata": {
  "celltoolbar": "Slideshow",
  "kernelspec": {
   "display_name": "Python 3",
   "language": "python",
   "name": "python3"
  },
  "language_info": {
   "codemirror_mode": {
    "name": "ipython",
    "version": 3
   },
   "file_extension": ".py",
   "mimetype": "text/x-python",
   "name": "python",
   "nbconvert_exporter": "python",
   "pygments_lexer": "ipython3",
   "version": "3.5.2"
  }
 },
 "nbformat": 4,
 "nbformat_minor": 1
}
