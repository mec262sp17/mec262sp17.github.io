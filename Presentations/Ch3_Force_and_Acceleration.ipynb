{
 "cells": [
  {
   "cell_type": "markdown",
   "metadata": {
    "slideshow": {
     "slide_type": "slide"
    }
   },
   "source": [
    "## Force and acceleration methods for particles\n",
    "\n",
    "#### Vivek Yadav, PhD\n"
   ]
  },
  {
   "cell_type": "markdown",
   "metadata": {
    "slideshow": {
     "slide_type": "slide"
    }
   },
   "source": [
    "### Overview\n",
    "\n",
    "1. Applying Newton's law for particle motion\n",
    "2. Express Newton's laws in Rectilinear, Normal-Tangent (path) coordinates and Polar coordinates\n",
    "3. As particles are represented by a mass concentrated at a point, the forces must be concurrent, i.e. pass through the same point. \n"
   ]
  },
  {
   "cell_type": "markdown",
   "metadata": {
    "slideshow": {
     "slide_type": "slide"
    }
   },
   "source": [
    "### Applying Newton's Laws of motion\n",
    "\n",
    "\n",
    "$$ \\vec{F} = m \\vec{a} $$ \n",
    "\n",
    "Steps to applying newton's laws \n",
    "\n",
    "1. Set up coordinate system and draw free body diagram\n",
    "2. Draw all the forces acting on the particle\n",
    "3. Express forces along the axes of coordinate systems\n",
    "4. Add forces along individual axes, and equate to the mass of the particle times the acceleration along the axes. \n",
    "5. Solve for unknown values\n",
    "6. Perform sanity checks to verify if the solutions make physical sense. "
   ]
  },
  {
   "cell_type": "markdown",
   "metadata": {
    "slideshow": {
     "slide_type": "slide"
    }
   },
   "source": [
    "### Force laws\n",
    "\n",
    "1. Friction\n",
    "2. Tension\n",
    "3. Spring force\n",
    "4. Gravity"
   ]
  },
  {
   "cell_type": "markdown",
   "metadata": {
    "slideshow": {
     "slide_type": "slide"
    }
   },
   "source": [
    "#### 1. Friction\n",
    "\n",
    "Friction is the force resisting the relative motion of solid surfaces, fluid layers, and material elements sliding against each other. Note, friction always opposes the tendency of motion. \n",
    "\n",
    "- Static friction \\\\( F \\leq \\mu_s N \\\\) when there is no motion between the particle and surface\n",
    "- Dynamic friction \\\\( F = \\mu_k N \\\\), when there is motion between the surfaces\n",
    "\n",
    "<img src='images/Friction_vs_force.png'>\n"
   ]
  },
  {
   "cell_type": "markdown",
   "metadata": {
    "slideshow": {
     "slide_type": "slide"
    }
   },
   "source": [
    "Friction force\n",
    "\n",
    "- Static friction \\\\( F \\leq \\mu_s N \\\\) when there is no motion between the particle and surface\n",
    "- Dynamic friction \\\\( F = \\mu_k N \\\\), when there is motion between the surfaces\n",
    "\n",
    "<img src='images/Friction.jpg'>\n"
   ]
  },
  {
   "cell_type": "markdown",
   "metadata": {
    "slideshow": {
     "slide_type": "slide"
    }
   },
   "source": [
    "#### 2. Tension\n",
    "\n",
    "The tension force is the force that is transmitted through a string, rope. The tension force is directed along the length of the wire and pulls equally on the objects on the opposite ends of the wire.\n",
    "\n",
    "- Tension force cannot be negative\n",
    "- Tension acting via rope or cable can only apply pulling force, not pushing force. \n",
    "- Tension is the same at all points in a cable, assuming massless cable and frictionless pulleys"
   ]
  },
  {
   "cell_type": "markdown",
   "metadata": {
    "slideshow": {
     "slide_type": "slide"
    }
   },
   "source": [
    "#### 3. Spring force\n",
    "\n",
    "Force of a spring is given by \n",
    "\n",
    "$$ F_s = - K(L-L_0) $$ \n",
    "\n",
    "where, \\\\( K \\\\) is the stiffness of the spring, \\\\( L \\\\) is spring's length and \\\\( L_0 \\\\) is the slack length. \n",
    "\n",
    "<img src='images/sprint.jpg'>\n"
   ]
  },
  {
   "cell_type": "markdown",
   "metadata": {
    "slideshow": {
     "slide_type": "slide"
    }
   },
   "source": [
    "### 3.2 Cuvilinear motion\n",
    "\n",
    "\n",
    "1. Cartesian coordinate frame \n",
    "2. Normal-tangential (path) coordinate systems\n",
    "3. Polar coordinate systems\n",
    "\n",
    "\n"
   ]
  },
  {
   "cell_type": "markdown",
   "metadata": {
    "slideshow": {
     "slide_type": "slide"
    }
   },
   "source": [
    "####  1. Cartesian coordinate frame \n",
    "\n",
    "$$ \\sum F_x = m a_x = m \\ddot{x}$$ \n",
    "\n",
    "$$ \\sum F_y = m a_y = m \\ddot{y} $$ \n",
    "\n",
    "<img src='images/cartesian.jpg'>\n"
   ]
  },
  {
   "cell_type": "markdown",
   "metadata": {
    "slideshow": {
     "slide_type": "slide"
    }
   },
   "source": [
    "#### 2. Normal-tangential (path) coordinate systems\n",
    "\n",
    "\n",
    "$$ \\sum F_t = m a_t = m \\dot{v}$$ \n",
    "\n",
    "$$ \\sum F_n = m a_n = m \\frac{v^2}{\\rho} $$ \n",
    "\n",
    "<img src='images/path.jpg'>\n",
    "\n"
   ]
  },
  {
   "cell_type": "markdown",
   "metadata": {
    "slideshow": {
     "slide_type": "slide"
    }
   },
   "source": [
    "#### 3. Polar coordinate systems\n",
    "\n",
    "\n",
    "$$ \\sum F_r = m a_r = m ( \\ddot{r} - r \\omega^2)$$ \n",
    "\n",
    "$$ \\sum F_\\theta = m a_\\theta = m ( r \\ddot{\\theta} + 2 \\dot{r} \\dot{\\theta}) $$ \n",
    "\n",
    "<img src='images/polar.jpg'>\n"
   ]
  },
  {
   "cell_type": "code",
   "execution_count": null,
   "metadata": {
    "collapsed": true
   },
   "outputs": [],
   "source": []
  }
 ],
 "metadata": {
  "celltoolbar": "Slideshow",
  "kernelspec": {
   "display_name": "Python 3",
   "language": "python",
   "name": "python3"
  },
  "language_info": {
   "codemirror_mode": {
    "name": "ipython",
    "version": 3
   },
   "file_extension": ".py",
   "mimetype": "text/x-python",
   "name": "python",
   "nbconvert_exporter": "python",
   "pygments_lexer": "ipython3",
   "version": "3.5.2"
  }
 },
 "nbformat": 4,
 "nbformat_minor": 1
}
