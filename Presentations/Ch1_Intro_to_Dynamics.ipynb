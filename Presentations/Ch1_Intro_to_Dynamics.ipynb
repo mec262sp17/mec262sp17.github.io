{
 "cells": [
  {
   "cell_type": "markdown",
   "metadata": {
    "slideshow": {
     "slide_type": "slide"
    }
   },
   "source": [
    "## MEC 262: Engineering Dynamics\n",
    "\n",
    "### Chapter 1: Introduction to dynamics\n",
    "\n",
    "#### (sections covered, 1.1, 1.3, 1.4, 1.5)\n",
    "\n",
    "#### Vivek Yadav, PhD\n",
    "\n",
    "#### TuTh: 8:30 AM - 9:50 AM"
   ]
  },
  {
   "cell_type": "markdown",
   "metadata": {
    "slideshow": {
     "slide_type": "slide"
    }
   },
   "source": [
    "### 1.1 Introduction\n",
    "\n",
    "#### Dynamics: \n",
    "\n",
    "- Study of force/torques acting on the body without considering the cause of forces.\n",
    "\n",
    "- The branch of mechanics concerned with the motion of bodies under the action of forces.\n",
    "\n",
    "\n",
    "MEC 262 bridges the gap between elementary physics and advanced dynamics. "
   ]
  },
  {
   "cell_type": "markdown",
   "metadata": {
    "slideshow": {
     "slide_type": "slide"
    }
   },
   "source": [
    "### 1.3 Fundamental principles\n",
    "\n",
    "- **Space** is a collection of all the points in the universe that a particle may occupy.  \n",
    "\n",
    "- **Time** Time provides measure of when an event or a sequence of events occurs.\n",
    "\n",
    "- **Particle** Particle is an object whose mass is concentrated at one point. "
   ]
  },
  {
   "cell_type": "markdown",
   "metadata": {
    "slideshow": {
     "slide_type": "slide"
    }
   },
   "source": [
    "- **Mass** is the ammount of matter in a material (Units, Kg, Slug)\n",
    "- **Force**  is an agency that is capable of producing motion of a particle (measured in Newtons, Pounds (lbs)).\n",
    "- **Rigid body**  is a non-deformable body. For rigid bodies, the distance between any 2 points on the body remains unchanged irrespective of the type of motion undergone by the body. \n"
   ]
  },
  {
   "cell_type": "markdown",
   "metadata": {
    "slideshow": {
     "slide_type": "slide"
    }
   },
   "source": [
    "### Position, velocity and acceleration\n",
    "\n",
    "- ** Position ** of a particle or body specifies its location in space relative to some coordinate frame. Given position \\\\( \\vec{r} \\\\)\n",
    "- ** Velocity ** of a particle or body quantifies the rate at with the position of the body is changing. \n",
    "\n",
    "    $$ \\vec{v} = \\frac{d \\vec{r}}{dt} $$\n",
    "\n",
    "- ** Acceleration ** of the body specifies the rate at which the velocity of the particle or body is changing.\n",
    "\n",
    "    $$ \\vec{a} = \\frac{d \\vec{v}}{dt} = \\frac{d^2 \\vec{r}}{dt^2} $$\n"
   ]
  },
  {
   "cell_type": "markdown",
   "metadata": {
    "collapsed": true,
    "slideshow": {
     "slide_type": "slide"
    }
   },
   "source": [
    "## Newton's Laws of motion:\n",
    "\n",
    "- **First law** A particle remains at rest, or continues to move in a straight line with uniform velocity, if there is no unbalanced force acting on it.\n",
    "- **Second law** The acceleration of a particle is proportional to the resultant force acting on the particle and is in the direction of this force. \n",
    "\n",
    "    $$ \\vec{F} = m \\vec{a} $$ \n",
    "    \n",
    "- ** Third law ** The forces of action and reaction between interacting bodies are equal in magnitude, opposite in direction, and collinear."
   ]
  },
  {
   "cell_type": "markdown",
   "metadata": {
    "collapsed": true,
    "slideshow": {
     "slide_type": "slide"
    }
   },
   "source": [
    "## 1.4 Forces\n",
    "\n",
    " - **Force**  is an agency that is capable of producing motion of a particle (measured in Newtons, Pounds (lbs)). \n",
    " - A force may or may not produce motion of the body it is applied to. \n",
    " \n",
    " Forces classified into two main types,\n",
    " - Contact forces: Forces that are applied to a body via contact. Examples include, friction forces, tension, etc. \n",
    " - Field forces: A force between bodies that acts through space is called a field force, for example gravity, electromangetic forces, etc. Field forces act throughout the volume of an object and thus have dimensions of force/volume. Field forces are often called body forces. "
   ]
  },
  {
   "cell_type": "markdown",
   "metadata": {
    "slideshow": {
     "slide_type": "slide"
    }
   },
   "source": [
    "## 1.5 Units and conversions\n",
    "\n",
    "| Quantity  | US Units  | SI Units  | \n",
    "|---|---|---|\n",
    "|  Force |  pounds (\\\\(lb\\\\)) | Newton (\\\\( N = Kg m/s^2\\\\))  |\n",
    "|  Mass |  slug (\\\\( lbs^2/ft \\\\) ) | Kilogram (Kg)  |\n",
    "| Length   | foot (ft)  | meter (m)  |   \n",
    "| Time   | second (s)  | second (s) |   \n"
   ]
  },
  {
   "cell_type": "markdown",
   "metadata": {
    "slideshow": {
     "slide_type": "slide"
    }
   },
   "source": [
    "## Basic conversions\n",
    "\n",
    "1. 1 ft = 12 inches\n",
    "2. 2.2 lb = 1 Kg-Force (Note, the units Kg-F is unit of force, its equal to Kg times the acceleration due to gravity). \n",
    "3. 1 hr = 3600 s. \n",
    "\n",
    "Skeleton for unit conversion,\n",
    "1. Expand compund units into fundamental units of length, time and mass. \n",
    "2. Make appropriate subtitutions\n",
    "3. Collect all numerical terms and calculate the conversion factor. "
   ]
  },
  {
   "cell_type": "markdown",
   "metadata": {
    "slideshow": {
     "slide_type": "slide"
    }
   },
   "source": [
    "### Ex 1: Units of mass\n",
    "\n",
    "- US Units of mass is slug, not pound. Pound is unit of force.\n",
    "- Mass in Kg is mass, not weight.  Weight is a force-unit. The 'weight' measured on weighing scale is in fact mass or Kg-force.\n",
    "\n",
    "\n",
    "$$ 1 ~ lb = \\frac{1}{2.2}Kg.Force = \\frac{9.8}{2.2} Kg-m/s^2 = 4.4452 N$$"
   ]
  },
  {
   "cell_type": "markdown",
   "metadata": {
    "slideshow": {
     "slide_type": "slide"
    }
   },
   "source": [
    "### Ex 2: Slug to Kg\n",
    "\n",
    "$$ 1~ slug = 1 ~lb s^2/ft = 1~ (4.4452N) s^2 / (0.3048 m) = 14.5839~Ns^2/m = 14.5839~ Kg $$ \n",
    "\n",
    "Note, 0.3048 comes from feet to meter conversion\n",
    "\n",
    "$$1 ~feet = 12 ~ inches = 12 ~ (2.54 ~cm) = 12 ~(2.54/100~  m) = 0.3048 ~m $$\n",
    "\n"
   ]
  },
  {
   "cell_type": "markdown",
   "metadata": {
    "slideshow": {
     "slide_type": "slide"
    }
   },
   "source": [
    "### Ex 3: Miles to Km conversion\n",
    "\n",
    "$$ 1 ~ mile = 5280~feet$$"
   ]
  },
  {
   "cell_type": "markdown",
   "metadata": {
    "slideshow": {
     "slide_type": "fragment"
    }
   },
   "source": [
    "$$ = 5280 \\times 12 ~ inches = 5280 \\times 12  \\times \\frac{2.54}{100}  m = 5280 \\times 12  \\times  \\frac{2.54}{100}  \\frac{1}{1000}  Km = 1.609 Km $$ "
   ]
  },
  {
   "cell_type": "markdown",
   "metadata": {
    "slideshow": {
     "slide_type": "slide"
    }
   },
   "source": [
    "### Ex 4: miles per hour to km per hour\n",
    "\n",
    "$$ 1 ~ mph = 1 ~ mile/hr = 1 \\times 1.609 Km/hr = 1.609 ~ Km/hr $$ "
   ]
  },
  {
   "cell_type": "markdown",
   "metadata": {
    "slideshow": {
     "slide_type": "fragment"
    }
   },
   "source": [
    "### km per hour to meters per second\n",
    "\n"
   ]
  },
  {
   "cell_type": "markdown",
   "metadata": {
    "slideshow": {
     "slide_type": "fragment"
    }
   },
   "source": [
    "$$ 1 ~ Km/hr = 1 ~ (1000 m)/(3600 s) = 1000/3600 m/s =  0.277778~ m/s$$ "
   ]
  },
  {
   "cell_type": "markdown",
   "metadata": {
    "collapsed": true,
    "slideshow": {
     "slide_type": "slide"
    }
   },
   "source": [
    "## Gravity \n",
    "\n",
    "Force due to gravity between two bodies is given by \n",
    "\n",
    "$$ F = G\\frac{m_1 m_2}{r^2} $$ \n",
    "\n",
    "Force between earth and a body of mass \\\\( m \\\\) is given by, \n",
    "\n",
    "$$ F = G \\frac{M m}{R^2} = m \\frac{GM}{R^2} = mg$$\n",
    "\n",
    "$$ g = 9.8 ~ m/s^2 = 32.2 ft/s^2$$\n",
    "\n"
   ]
  },
  {
   "cell_type": "code",
   "execution_count": null,
   "metadata": {
    "collapsed": true
   },
   "outputs": [],
   "source": []
  }
 ],
 "metadata": {
  "anaconda-cloud": {},
  "celltoolbar": "Slideshow",
  "kernelspec": {
   "display_name": "Python [conda env:SCND_venv]",
   "language": "python",
   "name": "conda-env-SCND_venv-py"
  },
  "language_info": {
   "codemirror_mode": {
    "name": "ipython",
    "version": 3
   },
   "file_extension": ".py",
   "mimetype": "text/x-python",
   "name": "python",
   "nbconvert_exporter": "python",
   "pygments_lexer": "ipython3",
   "version": "3.5.2"
  }
 },
 "nbformat": 4,
 "nbformat_minor": 1
}
