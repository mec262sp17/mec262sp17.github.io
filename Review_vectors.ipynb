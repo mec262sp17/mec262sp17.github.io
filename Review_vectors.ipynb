{
 "cells": [
  {
   "cell_type": "markdown",
   "metadata": {
    "slideshow": {
     "slide_type": "slide"
    }
   },
   "source": [
    "## MEC 262: Engineering Dynamics\n",
    "\n",
    "### Vectors review and Chapter 1\n",
    "\n",
    "#### Vivek Yadav, PhD\n",
    "\n",
    "#### TuTh: 8:30 AM - 9:50 AM"
   ]
  },
  {
   "cell_type": "markdown",
   "metadata": {
    "slideshow": {
     "slide_type": "slide"
    }
   },
   "source": [
    "## Vector review\n",
    "\n",
    "Vectors: Physical quantities that have both direction and magnitude. \n",
    "\n",
    "- Position, velocity, displacement, acceleration. \n",
    "\n",
    "Represented as. \n",
    "\n",
    "$$ \\vec{R} ~or ~ \\vec{R}_{B/A} ~ or ~    \\vec{R}_{AB} $$\n",
    "\n",
    "Where A and B are tail and head of the vector. "
   ]
  },
  {
   "cell_type": "markdown",
   "metadata": {
    "slideshow": {
     "slide_type": "slide"
    }
   },
   "source": [
    "## Vectors with respect to coordinate frames. \n",
    "\n",
    "Vectors can be representated with respect to a fixed or moving coordinate frame.\n",
    "\n",
    "$$ \\vec{a} = a_x \\hat{i}+a_y \\hat{j}+a_z \\hat{k} = (a_x,a_y,a_z) $$\n",
    "\n",
    "<img src='images/Vectors.png'>\n",
    "\n",
    "Taken from wikipedia. "
   ]
  },
  {
   "cell_type": "markdown",
   "metadata": {
    "slideshow": {
     "slide_type": "slide"
    }
   },
   "source": [
    "## Computing magnitude and direction\n",
    "\n",
    "\n",
    "Given a vector, \\\\( \\vec{u} = u_x \\hat{i}+u_y \\hat{j}+u_z \\hat{k} \\\\)\n",
    "\n",
    "The magnitude of vector is given by, \n",
    "\n",
    "$$ |\\vec{u}| = \\sqrt{u_x^2+u_y^2+u_z^2} $$\n",
    "\n",
    "Directions are given via direction cosines, \n",
    "\n",
    "$$ cos(\\alpha) = \\frac{u_x}{|\\vec{u}|},cos(\\beta) = \\frac{u_y}{|\\vec{u}|},cos(\\gamma) = \\frac{u_z}{|\\vec{u}|}$$\n",
    "\n",
    "<img src='images/direction_cosines.gif'>\n"
   ]
  },
  {
   "cell_type": "markdown",
   "metadata": {
    "slideshow": {
     "slide_type": "slide"
    }
   },
   "source": [
    "## Magnitude and direction of a planar vector\n",
    "\n",
    "\n",
    "Given, a vector \\\\( \\vec{u} = u_x \\hat{i} + u_y \\hat{j} \\\\), the magnitude of the vector is given by, \n",
    "\n",
    "$$ |\\vec{u}| = \\sqrt{u_x^2+u_y^2} $$\n",
    "\n",
    "The direction of the vector is given by, \n",
    "\n",
    "$$ \\theta = atan2(u_y,u_x) $$\n",
    "\n",
    "Note, \\\\( tan^{-1} \\frac{u_y}{u_x}  \\\\) gives the angle, but needs to be corrected for the quadrant. \n"
   ]
  },
  {
   "cell_type": "markdown",
   "metadata": {
    "slideshow": {
     "slide_type": "slide"
    }
   },
   "source": [
    "### Resolving angles All Silver Tea Cups (ASTC):\n",
    "\n",
    "Other mnemonics, \n",
    "\n",
    "\n",
    "\n",
    "<img src='images/ASTC.png'>\n",
    "\n",
    "http://clay6.com/blog/2185/all-silver-tea-cups-a-mnemonic-for-remembering-the-signs-of-trigonometric-ratios/"
   ]
  },
  {
   "cell_type": "markdown",
   "metadata": {
    "slideshow": {
     "slide_type": "slide"
    }
   },
   "source": [
    "### Sum of vectors\n",
    "\n",
    "Sum of two vectors \\\\( \\vec{a} \\\\) and \\\\( \\vec{b} \\\\) is equal to the vector formed by the sum of their components. \n",
    "\n",
    "Given two vectors \n",
    "\n",
    "$$ \\vec{a} = a_x \\hat{i}+a_y \\hat{j}+a_z \\hat{k} $$\n",
    "\n",
    "$$ \\vec{b} = b_x \\hat{i}+b_y \\hat{j}+b_z \\hat{k} $$\n",
    "\n",
    "$$ \\vec{a} + \\vec{b} = (a_x + b_x) \\hat{i}+ (a_y+b_y) \\hat{j}+(a_z+b_z) \\hat{k} $$\n"
   ]
  },
  {
   "cell_type": "markdown",
   "metadata": {
    "slideshow": {
     "slide_type": "slide"
    }
   },
   "source": [
    "### Sum of vectors\n",
    "\n",
    "#### Method 1:\n",
    "\n",
    "Geometric method, to compute sum, move vectors so the tails of the vectors are aligned, and draw the diagonal of the parallelogram formed by the vectors. \n",
    "\n",
    "<img src='images/sum_vec.gif'>\n",
    "\n",
    "#### Method 2:\n",
    "\n",
    "1. Move one vector so its tail coincides with the head of the other vector. \n",
    "2. Connect the tail of the first vector and head of the second vector or  \n",
    "\n",
    "\n",
    "Taken from, http://www.icoachmath.com/math_dictionary/addition_of_vectors.html"
   ]
  },
  {
   "cell_type": "markdown",
   "metadata": {
    "slideshow": {
     "slide_type": "slide"
    }
   },
   "source": [
    "## Difference of vectors\n",
    "\n",
    "Difference of two vectors \\\\( \\vec{a} \\\\) and \\\\( \\vec{b} \\\\) is equal to the vector formed by the difference of their components. \n",
    "\n",
    "Given two vectors \n",
    "\n",
    "$$ \\vec{a} = a_x \\hat{i}+a_y \\hat{j}+a_z \\hat{k} $$\n",
    "\n",
    "$$ \\vec{b} = b_x \\hat{i}+b_y \\hat{j}+b_z \\hat{k} $$\n",
    "\n",
    "$$ \\vec{a} - \\vec{b} = (a_x - b_x) \\hat{i}+ (a_y-b_y) \\hat{j}+(a_z-b_z) \\hat{k} $$\n"
   ]
  },
  {
   "cell_type": "markdown",
   "metadata": {
    "slideshow": {
     "slide_type": "slide"
    }
   },
   "source": [
    "#### Geometric method:\n",
    "\n",
    "Geometric method, to compute different of two vectors, move vectors so the tails of the vectors are aligned, and connect head of the vector to be subtracted to the head of the other vector.\n",
    "\n",
    "\n",
    "<img src='images/diff_vec.gif'>\n"
   ]
  },
  {
   "cell_type": "markdown",
   "metadata": {
    "slideshow": {
     "slide_type": "slide"
    }
   },
   "source": [
    "## Dot product or Inner Product:\n",
    "\n",
    "Dot product of two vectors \\\\(\\overrightarrow {a} \\\\) and \\\\( \\overrightarrow {b} \\\\) is defined as,\n",
    "\n",
    "$$ \\overrightarrow {a} \\circ \\overrightarrow {b} = \\overrightarrow {a}^T \\overrightarrow {b} = \\sum_{i=1}^n a_i b_i $$\n",
    "\n",
    "where \\\\(n\\\\) is the length of the vectors \\\\(\\overrightarrow {a} \\\\) and \\\\( \\overrightarrow {b}\\\\).\n",
    "\n",
    "\n",
    "For 3-D vectors, \n",
    "\n",
    "$$ \\overrightarrow {a} \\circ \\overrightarrow {b} = a_x b_x + a_y b_y + a_z b_z $$\n",
    "\n",
    "\n"
   ]
  },
  {
   "cell_type": "markdown",
   "metadata": {
    "slideshow": {
     "slide_type": "slide"
    }
   },
   "source": [
    "### Interpretation of dot product\n",
    "\n",
    "Dot product has several interpratations.\n",
    "\n",
    "1. Similarity measure: Inner product represents how similar two vectors are to one another. In the special case where, the vectors are normalized to have unit magnitude, then higher values indicates greater similarity between the vectors. This is also referred as Cosine similarity.\n",
    "    $$ cos(\\theta) = \\frac{\\overrightarrow {a} \\circ \\overrightarrow {b}}{ | \\overrightarrow {a}| |\\overrightarrow {b}|} ,$$\n",
    "2. Inner product also represents the length of the projection of one vector along the other vector. Therefore, the projection of vector \\(\\overrightarrow {a}\\) along vector \\\\(\\overrightarrow {b}\\\\) is \n",
    "    $$ \\frac{\\overrightarrow {a} \\circ \\overrightarrow {b}}{ |\\overrightarrow {b}|} .$$\n"
   ]
  },
  {
   "cell_type": "markdown",
   "metadata": {
    "slideshow": {
     "slide_type": "slide"
    }
   },
   "source": [
    "## Properties of dot product\n",
    "\n",
    "- Dot products are scalars\n",
    "- Dot product of two parallel vectors is equal to the product of the magnitudes of the vectors\n",
    "- Dot product of two perpendicular vectors is equal to zero\n",
    "- Dot product is commutative \\\\( a \\circ b  = b \\circ a \\\\)."
   ]
  },
  {
   "cell_type": "markdown",
   "metadata": {
    "slideshow": {
     "slide_type": "slide"
    }
   },
   "source": [
    "## Cross product\n",
    "\n",
    "- Cross product or vector product is defined between two vectors and is a measure of area of the parallelogram formed by the vectors. \n",
    "\n",
    "$$ \\vec{a} \\times \\vec{b} = |\\vec{a}||\\vec{b}| sin(\\theta) \\hat{u}_{a,b}  $$ \n",
    "\n",
    "\\\\(  \\hat{u}_{a,b} \\\\) is a unit vector perpendicular to both \\\\( \\vec{a} \\\\) and \\\\( \\vec{b}\\\\)"
   ]
  },
  {
   "cell_type": "markdown",
   "metadata": {
    "slideshow": {
     "slide_type": "slide"
    }
   },
   "source": [
    "## Properties of cross-product\n",
    "\n",
    "- Cross products are VECTORS\n",
    "- Cross product of two parallel vectors is equal to a null vector or zero. \n",
    "- Cross product of two perpendicular vectors is equal to the magnitude of the vector, and the direction is given by right hand rule. \n",
    "- Cross product is NOT commutative, infact \\\\( a \\times b  = - b \\times a \\\\)."
   ]
  },
  {
   "cell_type": "markdown",
   "metadata": {
    "slideshow": {
     "slide_type": "slide"
    }
   },
   "source": [
    "## EXAMPLES ##"
   ]
  }
 ],
 "metadata": {
  "anaconda-cloud": {},
  "celltoolbar": "Slideshow",
  "kernelspec": {
   "display_name": "Python [default]",
   "language": "python",
   "name": "python3"
  },
  "language_info": {
   "codemirror_mode": {
    "name": "ipython",
    "version": 3
   },
   "file_extension": ".py",
   "mimetype": "text/x-python",
   "name": "python",
   "nbconvert_exporter": "python",
   "pygments_lexer": "ipython3",
   "version": "3.5.2"
  }
 },
 "nbformat": 4,
 "nbformat_minor": 1
}
